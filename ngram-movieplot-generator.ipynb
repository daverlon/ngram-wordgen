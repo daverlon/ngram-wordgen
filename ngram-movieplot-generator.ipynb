{
 "cells": [
  {
   "cell_type": "code",
   "execution_count": 386,
   "id": "e213b976-dd1f-44a3-818c-4ab0f8b2875a",
   "metadata": {},
   "outputs": [],
   "source": [
    "import numpy as np\n",
    "import pandas as pd\n",
    "from tqdm import tqdm\n",
    "from collections import defaultdict\n",
    "from numpy.random import multinomial\n",
    "\n",
    "import re"
   ]
  },
  {
   "cell_type": "code",
   "execution_count": 387,
   "id": "93d1abd0-c6d0-41e6-a88e-a2796ec4a2d4",
   "metadata": {},
   "outputs": [],
   "source": [
    "import matplotlib.pyplot as plt\n",
    "%matplotlib inline"
   ]
  },
  {
   "cell_type": "code",
   "execution_count": 388,
   "id": "5e252101-13fe-4751-bea8-37aa63a4786d",
   "metadata": {},
   "outputs": [],
   "source": [
    "n = 4"
   ]
  },
  {
   "cell_type": "code",
   "execution_count": 389,
   "id": "f13fd198-4732-4c53-bec3-2fdabf76aa7f",
   "metadata": {},
   "outputs": [
    {
     "name": "stdout",
     "output_type": "stream",
     "text": [
      "A bartender is working at a saloon, serving drinks to customers. After he fills a stereotypically Irish man's bucket with beer, Carrie Nation and her followers burst inside. They assault the Irish man, pulling his hat over his eyes and then dumping the beer over his head. The group then begin wrecking the bar, smashing the fixtures, mirrors, and breaking the cash register. The bartender then sprays seltzer water in Nation's face before a group of policemen appear and order everybody to leave.[1]\n"
     ]
    },
    {
     "data": {
      "text/plain": [
       "2"
      ]
     },
     "execution_count": 389,
     "metadata": {},
     "output_type": "execute_result"
    }
   ],
   "source": [
    "dataset = pd.read_csv(\"datasets/wiki_movie_plots_deduped.csv\")\n",
    "plots = dataset[\"Plot\"].to_numpy()\n",
    "print(plots[0])\n",
    "min([len(p.split(\" \")) for p in plots])"
   ]
  },
  {
   "cell_type": "code",
   "execution_count": 390,
   "id": "8ec1896b-824f-425a-90ca-886acb63be6b",
   "metadata": {},
   "outputs": [
    {
     "name": "stdout",
     "output_type": "stream",
     "text": [
      " > > > >\n"
     ]
    },
    {
     "name": "stderr",
     "output_type": "stream",
     "text": [
      "34886it [00:00, 1087907.64it/s]"
     ]
    },
    {
     "name": "stdout",
     "output_type": "stream",
     "text": [
      "< < < <A bartender is working at a saloon, serving drinks to customers. After he fills a stereotypically Irish man's bucket with beer, Carrie Nation and her followers burst inside. They assault the Irish man, pulling his hat over his eyes and then dumping the beer over his head. The group then begin wrecking the bar, smashing the fixtures, mirrors, and breaking the cash register. The bartender then sprays seltzer water in Nation's face before a group of policemen appear and order everybody to leave.[1] > > > >\n"
     ]
    },
    {
     "name": "stderr",
     "output_type": "stream",
     "text": [
      "\n"
     ]
    }
   ],
   "source": [
    "startchar = (\"< \"*n)[:-1]\n",
    "endchar = \" \" + (\"> \"*n)[:-1]\n",
    "print(endchar)\n",
    "\n",
    "for i, p in tqdm(enumerate(plots)):\n",
    "    p = startchar + p + endchar\n",
    "    plots[i] = p\n",
    "    \n",
    "print(plots[0])"
   ]
  },
  {
   "cell_type": "code",
   "execution_count": 391,
   "id": "aa7b684e-2b3d-4d94-a03d-bcae1b626465",
   "metadata": {},
   "outputs": [
    {
     "name": "stderr",
     "output_type": "stream",
     "text": [
      "100%|████████████████████████████████████| 34886/34886 [00:05<00:00, 6186.14it/s]\n"
     ]
    }
   ],
   "source": [
    "unique_ngrams = set()\n",
    "\n",
    "# Generate and store 6-grams\n",
    "for plot in tqdm(plots):\n",
    "    words = plot.split()  # Split the plot into words\n",
    "    for i in range(len(words) - (n-1)):\n",
    "        ngram = \" \".join(words[i:i+n])  # Create a 6-gram\n",
    "        unique_ngrams.add(ngram)  # Add the 6-gram to the set"
   ]
  },
  {
   "cell_type": "code",
   "execution_count": 392,
   "id": "2b0fef89-b132-4434-bd68-c1991fa31ac1",
   "metadata": {},
   "outputs": [
    {
     "name": "stderr",
     "output_type": "stream",
     "text": [
      "100%|████████████████████████████████████| 34886/34886 [00:13<00:00, 2589.07it/s]\n",
      "100%|███████████████████████████| 11181896/11181896 [00:06<00:00, 1753497.55it/s]\n"
     ]
    }
   ],
   "source": [
    "ngram_probabilities = defaultdict(dict)\n",
    "\n",
    "# Calculate probabilities with Laplace smoothing\n",
    "vocabulary_size = len(unique_ngrams)\n",
    "smoothing_factor = 12.0  # You can adjust this factor\n",
    "for plot in tqdm(plots):\n",
    "    words = plot.split()\n",
    "    for i in range(len(words) - n):\n",
    "        ngram = \" \".join(words[i:i+n])\n",
    "        next_word = words[i+n]\n",
    "        \n",
    "        if ngram in unique_ngrams:\n",
    "            if next_word in ngram_probabilities[ngram]:\n",
    "                ngram_probabilities[ngram][next_word] += 1\n",
    "            else:\n",
    "                ngram_probabilities[ngram][next_word] = 1\n",
    "        else:\n",
    "            ngram_probabilities[ngram][next_word] = smoothing_factor\n",
    "\n",
    "# Normalize probabilities\n",
    "for ngram, next_words in tqdm(ngram_probabilities.items()):\n",
    "    total_count = sum(next_words.values())\n",
    "    for next_word in next_words:\n",
    "        ngram_probabilities[ngram][next_word] /= (total_count)"
   ]
  },
  {
   "cell_type": "code",
   "execution_count": 393,
   "id": "01de5eaf-af9e-4166-bc35-870f1b458c7f",
   "metadata": {
    "tags": []
   },
   "outputs": [
    {
     "name": "stdout",
     "output_type": "stream",
     "text": [
      "< < < < 23-year-old Martine (Olivia Thirlby) has just arrived in town. Billie's older sister Suzanne (Debra Messing) warns her that Huck is \"hustle 10, commitment zero.\" Back at the Bellagio, Huck is doing well at the dice hall. They approach him and after Jushiro cuts a mon coin in half by throwing his sword in the air, they bet Ichi 35 Ryō that he can't do it and even rejects a government job in order to serve as a weather lookout. The wind shifts and picks up speed, sending the fire toward Brendan and the crew. Brendan evacuates with the help of the prostitute. They make an escape by decoupling the engine of the train they are riding on. Daniel brings about a happy resolution.\n"
     ]
    }
   ],
   "source": [
    "out = []\n",
    "for i in range(n): out.append(\"<\")\n",
    "\n",
    "\n",
    "lastn = ' '.join(out[-n:])\n",
    "\n",
    "while True:\n",
    "#for _ in range(120):\n",
    "    lastn = ' '.join(out[-n:])\n",
    "    \n",
    "    probs = ngram_probabilities[lastn]\n",
    "\n",
    "    idx = multinomial(1, [*probs.values()]).argmax()\n",
    "    word = [*probs.keys()][idx]\n",
    "    if word == '>': break\n",
    "    #if word[:-1] == '.': break\n",
    "    #print(word)\n",
    "    out.append(word)\n",
    "          \n",
    "    #break\n",
    "\n",
    "print(' '.join(out))"
   ]
  }
 ],
 "metadata": {
  "kernelspec": {
   "display_name": "Python 3 (ipykernel)",
   "language": "python",
   "name": "python3"
  },
  "language_info": {
   "codemirror_mode": {
    "name": "ipython",
    "version": 3
   },
   "file_extension": ".py",
   "mimetype": "text/x-python",
   "name": "python",
   "nbconvert_exporter": "python",
   "pygments_lexer": "ipython3",
   "version": "3.11.4"
  }
 },
 "nbformat": 4,
 "nbformat_minor": 5
}
