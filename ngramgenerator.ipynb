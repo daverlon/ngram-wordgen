{
 "cells": [
  {
   "cell_type": "code",
   "execution_count": 375,
   "id": "52a29cf3-6450-4712-b64b-667d5048e9b7",
   "metadata": {},
   "outputs": [],
   "source": [
    "import numpy as np\n",
    "from collections import defaultdict\n",
    "from numpy.random import multinomial\n",
    "\n",
    "import pandas as pd"
   ]
  },
  {
   "cell_type": "code",
   "execution_count": 390,
   "id": "aa1754ff",
   "metadata": {},
   "outputs": [],
   "source": [
    "class NgramGenerator:\n",
    "    def __init__(self, data: list, n: int = 4, use_words: bool = False):\n",
    "        self.data = data\n",
    "        self.n = n\n",
    "        self.use_words = use_words\n",
    "        self.ngrams = defaultdict(dict)\n",
    "        \n",
    "        self.start_token = ('< ' * self.n)\n",
    "        self.end_token = ' >'\n",
    "        \n",
    "        self.count_ngrams()\n",
    "        self.calculate_ngram_probabilities()\n",
    "\n",
    "    def count_ngrams(self):\n",
    "        text = []\n",
    "        for sample in self.data:\n",
    "            text.append(self.start_token + sample + self.end_token)\n",
    "        for sample in text:\n",
    "            if self.use_words: \n",
    "                sample = sample.split()\n",
    "                \n",
    "            for i in range(len(sample)-self.n):\n",
    "                if self.use_words:\n",
    "                    k = ' '.join(sample[i:i+self.n])\n",
    "                else:\n",
    "                    k = sample[i:i+self.n]\n",
    "                v = sample[i+self.n]\n",
    "                \n",
    "                if v in self.ngrams[k]:\n",
    "                    self.ngrams[k][v] += 1\n",
    "                else:\n",
    "                    self.ngrams[k][v] = 1\n",
    "        \n",
    "    def calculate_ngram_probabilities(self):\n",
    "        for k in self.ngrams.keys():\n",
    "            s = sum(self.ngrams[k].values())\n",
    "            for kk in self.ngrams[k].keys():\n",
    "                self.ngrams[k][kk] /= s\n",
    "    \n",
    "    def __call__(self):\n",
    "        out = []\n",
    "        if self.use_words:\n",
    "            out = self.start_token.split()\n",
    "        else:\n",
    "            for i in self.start_token: out.append(i)\n",
    "            \n",
    "        while True:    \n",
    "                \n",
    "            curgram = out[-self.n:]\n",
    "            \n",
    "            if self.use_words:\n",
    "                nextgram_probs = self.ngrams[' '.join(curgram)]\n",
    "            else:\n",
    "                nextgram_probs = self.ngrams[''.join(curgram)]\n",
    "            \n",
    "            idx = multinomial(1, [*nextgram_probs.values()]).argmax()\n",
    "            pred = [*nextgram_probs.keys()][idx]\n",
    "            #print(curgram, '--->', pred)\n",
    "\n",
    "            if pred == self.end_token.strip():\n",
    "                break\n",
    "\n",
    "            out.append(pred)\n",
    "        \n",
    "        spc = ''\n",
    "        if self.use_words: spc = ' '\n",
    "        ret = spc.join(out[:]).replace('<','').strip()\n",
    "        return ret"
   ]
  },
  {
   "cell_type": "code",
   "execution_count": 442,
   "id": "f9e0d752-b491-435d-a095-c8e4477abe88",
   "metadata": {},
   "outputs": [
    {
     "data": {
      "text/plain": [
       "'@comma_ai Tesla Full Self-Driving will work at a safety level well above that of the average driver this year, of that I am confident. Can’t speak for regulators though.'"
      ]
     },
     "execution_count": 442,
     "metadata": {},
     "output_type": "execute_result"
    }
   ],
   "source": [
    "#X = pd.read_csv(open(\"datasets/McDonald_s_Reviews.csv\", errors='ignore'))[\"review\"].to_numpy().astype(str)\n",
    "X = pd.read_csv(open(\"datasets/Emusk_2021_tweets.csv\", errors='ignore'))[\"Text\"].to_numpy().astype(str)\n",
    "X[1]"
   ]
  },
  {
   "cell_type": "code",
   "execution_count": 449,
   "id": "a828f41f-140c-4ffb-997c-fc37cce8f2ad",
   "metadata": {},
   "outputs": [],
   "source": [
    "g = NgramGenerator(data=X, n=2, use_words=True)"
   ]
  },
  {
   "cell_type": "code",
   "execution_count": 462,
   "id": "c6eb95b6-e800-42a5-918c-96e5a98d757c",
   "metadata": {},
   "outputs": [
    {
     "data": {
      "text/plain": [
       "'@Model3Owners I was in the first 5 years or so of Tesla, I thought we had &lt;10% chance of success will be landing Starships on Mars'"
      ]
     },
     "execution_count": 462,
     "metadata": {},
     "output_type": "execute_result"
    }
   ],
   "source": [
    "g()"
   ]
  },
  {
   "cell_type": "code",
   "execution_count": 463,
   "id": "6f93dd3d-250e-4a98-b8f7-326775491d33",
   "metadata": {},
   "outputs": [
    {
     "name": "stdout",
     "output_type": "stream",
     "text": [
      "@teslaownersSV @Kristennetten @itsALLrisky @SenSanders I had majority control for the first 5 years or so of Tesla, but car companies need lots of capital, so now I’m around 20% or so, despite putting in as much as I could along the way\n"
     ]
    }
   ],
   "source": [
    "for i in X:\n",
    "    if 'first 5 years' in i: print(i)"
   ]
  }
 ],
 "metadata": {
  "kernelspec": {
   "display_name": "Python 3 (ipykernel)",
   "language": "python",
   "name": "python3"
  },
  "language_info": {
   "codemirror_mode": {
    "name": "ipython",
    "version": 3
   },
   "file_extension": ".py",
   "mimetype": "text/x-python",
   "name": "python",
   "nbconvert_exporter": "python",
   "pygments_lexer": "ipython3",
   "version": "3.11.4"
  }
 },
 "nbformat": 4,
 "nbformat_minor": 5
}
